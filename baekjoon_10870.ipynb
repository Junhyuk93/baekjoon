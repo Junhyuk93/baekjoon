{
  "nbformat": 4,
  "nbformat_minor": 0,
  "metadata": {
    "colab": {
      "name": "baekjoon_10870",
      "provenance": [],
      "private_outputs": true,
      "authorship_tag": "ABX9TyM0h2eKylT8DQeeXDoSzHID",
      "include_colab_link": true
    },
    "kernelspec": {
      "name": "python3",
      "display_name": "Python 3"
    }
  },
  "cells": [
    {
      "cell_type": "markdown",
      "metadata": {
        "id": "view-in-github",
        "colab_type": "text"
      },
      "source": [
        "<a href=\"https://colab.research.google.com/github/akznsk1/baekjoon/blob/master/baekjoon_10870.ipynb\" target=\"_parent\"><img src=\"https://colab.research.google.com/assets/colab-badge.svg\" alt=\"Open In Colab\"/></a>"
      ]
    },
    {
      "cell_type": "code",
      "metadata": {
        "id": "dzQSeAgZSFpN",
        "colab_type": "code",
        "colab": {}
      },
      "source": [
        "n = int(input())\n",
        "\n",
        "def fibonachi(n):\n",
        "    if n == 0:\n",
        "        return 0\n",
        "    if n == 1:\n",
        "        return 1\n",
        "    return fibonachi(n-1) + fibonachi(n-2)\n",
        "print(fibonachi(n))"
      ],
      "execution_count": 0,
      "outputs": []
    }
  ]
}