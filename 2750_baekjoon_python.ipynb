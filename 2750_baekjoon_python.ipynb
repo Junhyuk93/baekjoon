{
  "nbformat": 4,
  "nbformat_minor": 0,
  "metadata": {
    "colab": {
      "name": "2750-baekjoon-python",
      "provenance": [],
      "private_outputs": true,
      "authorship_tag": "ABX9TyMm22rnc070qqb+x64GePxy",
      "include_colab_link": true
    },
    "kernelspec": {
      "name": "python3",
      "display_name": "Python 3"
    }
  },
  "cells": [
    {
      "cell_type": "markdown",
      "metadata": {
        "id": "view-in-github",
        "colab_type": "text"
      },
      "source": [
        "<a href=\"https://colab.research.google.com/github/Junhyuk93/baekjoon/blob/master/2750_baekjoon_python.ipynb\" target=\"_parent\"><img src=\"https://colab.research.google.com/assets/colab-badge.svg\" alt=\"Open In Colab\"/></a>"
      ]
    },
    {
      "cell_type": "code",
      "metadata": {
        "id": "eIWmiYRIypmD",
        "colab_type": "code",
        "colab": {}
      },
      "source": [
        "test = int(input())\n",
        "ls = []\n",
        "\n",
        "for i in range(test):\n",
        "    a= int(input())\n",
        "    \n",
        "    ls.append(a)\n",
        "    \n",
        "    ls.sort()\n",
        "for i in ls:\n",
        "    print(i)"
      ],
      "execution_count": 0,
      "outputs": []
    },
    {
      "cell_type": "code",
      "metadata": {
        "id": "S1xymqlbyqy9",
        "colab_type": "code",
        "colab": {}
      },
      "source": [
        ""
      ],
      "execution_count": 0,
      "outputs": []
    }
  ]
}