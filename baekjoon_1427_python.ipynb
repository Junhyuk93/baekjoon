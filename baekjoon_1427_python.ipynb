{
  "nbformat": 4,
  "nbformat_minor": 0,
  "metadata": {
    "colab": {
      "name": "baekjoon_1427_python",
      "provenance": [],
      "private_outputs": true,
      "authorship_tag": "ABX9TyOwgTrFACzRcw1rUXoIE977",
      "include_colab_link": true
    },
    "kernelspec": {
      "name": "python3",
      "display_name": "Python 3"
    }
  },
  "cells": [
    {
      "cell_type": "markdown",
      "metadata": {
        "id": "view-in-github",
        "colab_type": "text"
      },
      "source": [
        "<a href=\"https://colab.research.google.com/github/Junhyuk93/baekjoon/blob/master/baekjoon_1427_python.ipynb\" target=\"_parent\"><img src=\"https://colab.research.google.com/assets/colab-badge.svg\" alt=\"Open In Colab\"/></a>"
      ]
    },
    {
      "cell_type": "code",
      "metadata": {
        "id": "Gr9ja6_ZwZpW",
        "colab_type": "code",
        "colab": {}
      },
      "source": [
        "# 숫자를 저장할 리스트를 만듭니다\n",
        "number = []\n",
        "# 문자열로 입력값을 받습니다.\n",
        "x = str(input())\n",
        "# 포문을 이용해 문자열 길이만큼 반복합니다\n",
        "for i in range(len(x)):\n",
        "    # 숫자를 저장할 공간에 문자열을 모두 넣어줍니다\n",
        "    number.append((x[i]))\n",
        "    # 리스트에서 순서대로 정렬합니다\n",
        "    number.sort()\n",
        "# 순서대로 정렬했으니 거꾸로 출력하고 리스트에서 문자열로 변환합니다    \n",
        "print(''.join(number[::-1]))"
      ],
      "execution_count": 0,
      "outputs": []
    },
    {
      "cell_type": "code",
      "metadata": {
        "id": "neTG3BgbyG6k",
        "colab_type": "code",
        "colab": {}
      },
      "source": [
        ""
      ],
      "execution_count": 0,
      "outputs": []
    }
  ]
}