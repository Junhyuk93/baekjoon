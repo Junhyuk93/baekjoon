{
 "cells": [
  {
   "cell_type": "code",
   "execution_count": 1,
   "metadata": {},
   "outputs": [
    {
     "name": "stdout",
     "output_type": "stream",
     "text": [
      "13\n",
      "but\n",
      "i\n",
      "wont\n",
      "hesitate\n",
      "no\n",
      "more\n",
      "no\n",
      "more\n",
      "it\n",
      "cannot\n",
      "wait\n",
      "im\n",
      "yours\n",
      "i\n",
      "im\n",
      "it\n",
      "no\n",
      "but\n",
      "more\n",
      "wait\n",
      "wont\n",
      "yours\n",
      "cannot\n",
      "hesitate\n"
     ]
    }
   ],
   "source": [
    "# 입력할 횟수\n",
    "n = int(input())\n",
    "# 저장할 공백리스트 생성\n",
    "word_list = []\n",
    "\n",
    "# 반복문 형성\n",
    "for _ in range(n):\n",
    "    # n 만큼 반복해서 문자열 입력받음\n",
    "    word = str(input())\n",
    "    \n",
    "    # 입력받은 문자열을 길이로 만들어서 새로운 변수에 저장\n",
    "    word_count = len(word)\n",
    "    \n",
    "    # 리스트에 문자열과 길이변수 둘다 저장\n",
    "    word_list.append((word, word_count))\n",
    "\n",
    "#중복 삭제\n",
    "word_list = list(set(word_list))\n",
    "\n",
    "#단어 숫자 정렬 > 단어 알파벳 정렬\n",
    "word_list.sort(key = lambda word: (word[1], word[0]))\n",
    "\n",
    "# 반복해서 문자열만 출력\n",
    "for word in word_list:\n",
    "    print(word[0])"
   ]
  },
  {
   "cell_type": "code",
   "execution_count": null,
   "metadata": {},
   "outputs": [],
   "source": []
  }
 ],
 "metadata": {
  "kernelspec": {
   "display_name": "Python 3",
   "language": "python",
   "name": "python3"
  },
  "language_info": {
   "codemirror_mode": {
    "name": "ipython",
    "version": 3
   },
   "file_extension": ".py",
   "mimetype": "text/x-python",
   "name": "python",
   "nbconvert_exporter": "python",
   "pygments_lexer": "ipython3",
   "version": "3.7.4"
  }
 },
 "nbformat": 4,
 "nbformat_minor": 2
}
